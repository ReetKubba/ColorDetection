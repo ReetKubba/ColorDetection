{
 "cells": [
  {
   "cell_type": "code",
   "execution_count": null,
   "id": "86501b41",
   "metadata": {},
   "outputs": [],
   "source": [
    "import cv2\n",
    "cap=cv2.VideoCapture(0)\n",
    "cap.set(cv2.CAP_PROP_FRAME_WIDTH,1280)\n",
    "cap.set(cv2.CAP_PROP_FRAME_HEIGHT,720)\n",
    "while True:\n",
    "    _,frame=cap.read()\n",
    "    hsv_frame=cv2.cvtColor(frame,cv2.COLOR_BGR2HSV)\n",
    "    height,width,_=frame.shape\n",
    "    cx=int(width/2)\n",
    "    cy=int(height/2)\n",
    "    #Pick pixel value\n",
    "    pixel_center=hsv_frame[cy,cx]\n",
    "    hue_value=pixel_center[0]\n",
    "    color=\"Undefined\"\n",
    "    if hue_value<5:\n",
    "        color=\"RED\"\n",
    "    elif hue_value<22:\n",
    "        color=\"ORANGE\"\n",
    "    elif hue_value<33:\n",
    "        color=\"YELLOW\"\n",
    "    elif hue_value<78:\n",
    "        color=\"GREEN\"\n",
    "    elif hue_value<131:\n",
    "        color=\"BLUE\"\n",
    "    elif hue_value<170:\n",
    "        color=\"VIOLET\"\n",
    "    else:\n",
    "        color=\"RED\"\n",
    "    pixel_center_bgr=frame[cy,cx]\n",
    "    b,g,r=int(pixel_center_bgr[0]),int(pixel_center_bgr[1]),int(pixel_center_bgr[2])\n",
    "    cv2.putText(frame,color,(10,50),0,1,(255,0,0),2)\n",
    "    cv2.circle(frame,(cx,cy),5,(255,0,0),3)\n",
    "    cv2.imshow(\"Frame\",frame)\n",
    "    key=cv2.waitKey(1)\n",
    "    if key==27:\n",
    "        break\n",
    "cap.release()\n",
    "cap.destroyAllWindows()"
   ]
  },
  {
   "cell_type": "code",
   "execution_count": 5,
   "id": "daaebfc6",
   "metadata": {},
   "outputs": [
    {
     "name": "stdout",
     "output_type": "stream",
     "text": [
      "Requirement already satisfied: opencv-python in c:\\users\\dell\\anaconda3\\envs\\color\\lib\\site-packages (4.6.0.66)\n",
      "Requirement already satisfied: numpy>=1.19.3 in c:\\users\\dell\\anaconda3\\envs\\color\\lib\\site-packages (from opencv-python) (1.23.2)\n"
     ]
    }
   ],
   "source": [
    "!pip install opencv-python"
   ]
  },
  {
   "cell_type": "code",
   "execution_count": null,
   "id": "29d49bc2",
   "metadata": {},
   "outputs": [],
   "source": []
  }
 ],
 "metadata": {
  "kernelspec": {
   "display_name": "Python 3 (ipykernel)",
   "language": "python",
   "name": "python3"
  },
  "language_info": {
   "codemirror_mode": {
    "name": "ipython",
    "version": 3
   },
   "file_extension": ".py",
   "mimetype": "text/x-python",
   "name": "python",
   "nbconvert_exporter": "python",
   "pygments_lexer": "ipython3",
   "version": "3.10.4"
  }
 },
 "nbformat": 4,
 "nbformat_minor": 5
}
